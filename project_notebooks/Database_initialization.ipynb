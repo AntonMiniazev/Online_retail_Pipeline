{
 "cells": [
  {
   "cell_type": "code",
   "execution_count": 1,
   "id": "26462297",
   "metadata": {},
   "outputs": [],
   "source": [
    "import os\n",
    "import numpy as np\n",
    "import pandas as pd\n",
    "import requests\n",
    "import sqlalchemy\n",
    "import psycopg2\n",
    "from sqlalchemy import create_engine\n",
    "from sqlalchemy.types import Integer, Date, String"
   ]
  },
  {
   "cell_type": "code",
   "execution_count": 2,
   "id": "fe00d626",
   "metadata": {},
   "outputs": [],
   "source": [
    "# GitHub repository information which contain csv files for database\n",
    "repository_owner = 'AntonMiniazev'\n",
    "repository_name = 'online_retail_reporting'\n",
    "folder_path = 'initial_data_source'"
   ]
  },
  {
   "cell_type": "code",
   "execution_count": 3,
   "id": "a4b67898",
   "metadata": {},
   "outputs": [],
   "source": [
    "# Set connection parameters\n",
    "param_dic = {\n",
    "    \"host\"      : \"localhost\",\n",
    "    \"database\"  : \"fine_delivery\",\n",
    "    \"user\"      : \"postgres\",\n",
    "    \"password\"  : \"postgres\",\n",
    "    \"port\"      : \"5432\"\n",
    "}\n",
    "schema_name = 'sales'"
   ]
  },
  {
   "cell_type": "code",
   "execution_count": 4,
   "id": "bc6d2c42",
   "metadata": {},
   "outputs": [],
   "source": [
    "# Use Github API to get source files from repository\n",
    "# GitHub API URL to fetch directory contents\n",
    "api_url = f'https://api.github.com/repos/{repository_owner}/{repository_name}/contents/{folder_path}'\n",
    "\n",
    "# Send GET request to fetch directory contents\n",
    "response = requests.get(api_url)\n",
    "\n",
    "# Check if the request was successful\n",
    "if response.status_code == 200:\n",
    "    contents = response.json()\n",
    "    \n",
    "    # List to store CSV file links\n",
    "    csv_links = []\n",
    "    \n",
    "    # Iterate over the contents\n",
    "    for item in contents:\n",
    "        if item['type'] == 'file' and item['name'].endswith('.csv'):\n",
    "            # Construct the raw file link\n",
    "            raw_link = item['download_url']\n",
    "            \n",
    "            # Append the raw file link to the CSV links list\n",
    "            csv_links.append(raw_link)\n",
    "else:\n",
    "    print(f\"Failed to fetch directory contents. Status Code: {response.status_code}\")"
   ]
  },
  {
   "cell_type": "code",
   "execution_count": 5,
   "id": "ca17f51a",
   "metadata": {},
   "outputs": [],
   "source": [
    "# Create the list of columns to be set as integer in database\n",
    "columns_type_float = ['total_value','quantity','selling_price','cost_of_sales','total_price','cost']"
   ]
  },
  {
   "cell_type": "code",
   "execution_count": 6,
   "id": "38d203ed",
   "metadata": {},
   "outputs": [],
   "source": [
    "def table_exists(table_name):\n",
    "    # Check if the table exists in the specified schema\n",
    "    with engine.connect() as connection:\n",
    "        query = f\"\"\"\n",
    "        SELECT EXISTS (\n",
    "            SELECT 1\n",
    "            FROM information_schema.tables\n",
    "            WHERE table_schema = '{schema_name}'\n",
    "            AND table_name = '{table_name}'\n",
    "        )\n",
    "        \"\"\"\n",
    "        result = connection.execute(query).scalar()\n",
    "        return result\n",
    "\n",
    "def create_table_from_csv(csv_path):\n",
    "    # Extract table name from CSV file name\n",
    "    table_name = os.path.splitext(os.path.basename(csv_path))[0]\n",
    "\n",
    "    # Read the CSV file into a pandas DataFrame with all columns as objects\n",
    "    df = pd.read_csv(csv_path, dtype=object, delimiter = ';', thousands=',')\n",
    "\n",
    "    # Drop the table if it already exists in the specified schema\n",
    "    if table_exists(table_name):\n",
    "        with engine.connect() as connection:\n",
    "            connection.execute(f\"DROP TABLE IF EXISTS {schema_name}.{table_name} CASCADE\")\n",
    "    \n",
    "    # Set \"date\" data type for columns with \"_date\" in their names\n",
    "    for column in df.columns:\n",
    "        if \"_date\" in column.lower():\n",
    "            df[column] = pd.to_datetime(df[column],format=\"%Y-%m-%d\").dt.date\n",
    "    # Set \"int\" data type for columns with \"_id\" in their names\n",
    "    for column in df.columns:\n",
    "        if \"_id\" in column.lower():\n",
    "            df[column] = df[column].astype(int)\n",
    "            \n",
    "    # Set \"float\" data type for columns with specific names\n",
    "    for column in df.columns:\n",
    "        if any(col in column.lower() for col in columns_type_float):\n",
    "            df[column] = df[column].astype(float)             \n",
    "            \n",
    "    # Create the table with appropriate data types inferred from the DataFrame in the specified schema\n",
    "    df.to_sql(table_name, con=engine, schema=schema_name, index=False, if_exists='replace')\n",
    "\n",
    "    print(f\"Table '{table_name}' created in schema '{schema_name}'.\")"
   ]
  },
  {
   "cell_type": "code",
   "execution_count": 5,
   "id": "ea4cf0ce",
   "metadata": {},
   "outputs": [],
   "source": [
    "# Create the PostgreSQL engine using SQLAlchemy\n",
    "engine = create_engine(f'postgresql://{param_dic[\"user\"]}:{param_dic[\"password\"]}@{param_dic[\"host\"]}:{param_dic[\"port\"]}/{param_dic[\"database\"]}')"
   ]
  },
  {
   "cell_type": "code",
   "execution_count": 8,
   "id": "bcf85e12",
   "metadata": {},
   "outputs": [
    {
     "name": "stdout",
     "output_type": "stream",
     "text": [
      "Table 'assortment' created in schema 'sales'.\n",
      "Table 'delivery_types' created in schema 'sales'.\n",
      "Table 'orders' created in schema 'sales'.\n",
      "Table 'products' created in schema 'sales'.\n",
      "Table 'resource' created in schema 'sales'.\n",
      "Table 'store' created in schema 'sales'.\n",
      "Table 'zone' created in schema 'sales'.\n"
     ]
    }
   ],
   "source": [
    "# Iterate over the CSV files in the folder\n",
    "for file in csv_links:\n",
    "    if file.endswith('.csv'):\n",
    "        create_table_from_csv(file)"
   ]
  },
  {
   "cell_type": "code",
   "execution_count": 9,
   "id": "811faa3b",
   "metadata": {},
   "outputs": [],
   "source": [
    "# Create dictionaty with primary keys for each table\n",
    "primary_keys = {'assortment': 'product_id'\n",
    "                ,'delivery_types': 'delivery_type'\n",
    "                ,'orders': 'order_id'\n",
    "                ,'resource': 'resource_id'\n",
    "                ,'store': 'store_id'\n",
    "                ,'zone': 'zone_id'\n",
    "               }"
   ]
  },
  {
   "cell_type": "code",
   "execution_count": 10,
   "id": "fda6ba96",
   "metadata": {},
   "outputs": [],
   "source": [
    "# Add primary keys to database tables\n",
    "\n",
    "with engine.connect() as connection:\n",
    "    for key in primary_keys:\n",
    "        connection.execute(f\"ALTER TABLE {schema_name}.{key} ADD PRIMARY KEY ({primary_keys[key]})\")    "
   ]
  },
  {
   "cell_type": "code",
   "execution_count": 11,
   "id": "2c605dba",
   "metadata": {},
   "outputs": [],
   "source": [
    "# Create dictionaty with foreign keys for each table with link to related table and columns\n",
    "# {table:{constraint_name:(related_table, columns)}}\n",
    "\n",
    "constraints = {'products':{'fk_order_id':('orders','order_id'),\n",
    "                           'fk_product_id':('assortment','product_id')}\n",
    "               ,'orders':{'fk_delivery_type':('delivery_types','delivery_type'),\n",
    "                           'fk_zone_id':('zone','zone_id')}\n",
    "               ,'zone':{'fk_store_id':('store','store_id')}\n",
    "               ,'resource':{'fk_store_id':('store','store_id')}             \n",
    "              }"
   ]
  },
  {
   "cell_type": "code",
   "execution_count": 12,
   "id": "1db1305e",
   "metadata": {},
   "outputs": [],
   "source": [
    "# Iterate over constraints dictionary to set constraints\n",
    "\n",
    "with engine.connect() as connection:\n",
    "    for table in constraints:\n",
    "        for constraint_name in constraints[table]:    \n",
    "            connection.execute(f\"\"\"\n",
    "                ALTER TABLE {schema_name}.{table} DROP CONSTRAINT IF EXISTS {constraint_name}\n",
    "                \"\"\")\n",
    "            \n",
    "            connection.execute(f\"\"\"\n",
    "                ALTER TABLE {schema_name}.{table}\n",
    "                ADD CONSTRAINT {constraint_name} FOREIGN KEY ({constraints[table][constraint_name][1]})\n",
    "                REFERENCES {schema_name}.{constraints[table][constraint_name][0]} ({constraints[table][constraint_name][1]}) MATCH SIMPLE\n",
    "                ON UPDATE NO ACTION\n",
    "                ON DELETE NO ACTION\n",
    "                NOT VALID\n",
    "                \"\"\")"
   ]
  },
  {
   "cell_type": "code",
   "execution_count": 6,
   "id": "ac1716f2",
   "metadata": {},
   "outputs": [],
   "source": [
    "# Create target table with zone economy \n",
    "with engine.connect() as connection:\n",
    "    connection.execute(f\"DROP TABLE IF EXISTS sales.zone_economy CASCADE\")\n",
    "\n",
    "with engine.connect() as connection:\n",
    "    connection.execute(\"\"\"\n",
    "    CREATE TABLE IF NOT EXISTS sales.zone_economy (\n",
    "        delivery_zone TEXT,\n",
    "        day DATE,\n",
    "        revenue INT,\n",
    "        cost_of_sales INT,\n",
    "        delivery_cost INT,\n",
    "        store_cost INT,\n",
    "        gross_margin INT,\n",
    "        orders INT,\n",
    "        version timestamptz\n",
    "    );\n",
    "    \"\"\")"
   ]
  },
  {
   "cell_type": "code",
   "execution_count": 7,
   "id": "38571f8e",
   "metadata": {},
   "outputs": [],
   "source": [
    "engine.dispose()"
   ]
  }
 ],
 "metadata": {
  "kernelspec": {
   "display_name": "Python 3",
   "language": "python",
   "name": "python3"
  },
  "language_info": {
   "codemirror_mode": {
    "name": "ipython",
    "version": 3
   },
   "file_extension": ".py",
   "mimetype": "text/x-python",
   "name": "python",
   "nbconvert_exporter": "python",
   "pygments_lexer": "ipython3",
   "version": "3.8.8"
  }
 },
 "nbformat": 4,
 "nbformat_minor": 5
}
