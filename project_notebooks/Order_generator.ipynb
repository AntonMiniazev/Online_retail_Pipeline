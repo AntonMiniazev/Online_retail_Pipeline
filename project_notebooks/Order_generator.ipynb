{
 "cells": [
  {
   "cell_type": "code",
   "execution_count": 1,
   "id": "069ba721",
   "metadata": {},
   "outputs": [],
   "source": [
    "import pandas as pd\n",
    "import numpy as np\n",
    "import requests\n",
    "import random\n",
    "from datetime import datetime, timedelta"
   ]
  },
  {
   "cell_type": "code",
   "execution_count": 2,
   "id": "ca8b9641",
   "metadata": {},
   "outputs": [],
   "source": [
    "df_assortment = pd.read_csv('https://raw.githubusercontent.com/AntonMiniazev/Online_retail_Pipeline/main/project_notebooks/assortment_generator.csv', dtype=object, delimiter = ';', thousands=',')\n",
    "df_delivery_types = pd.read_csv('https://raw.githubusercontent.com/AntonMiniazev/Online_retail_Pipeline/main/initial_data/delivery_types.csv', dtype=object, delimiter = ';', thousands=',')"
   ]
  },
  {
   "cell_type": "markdown",
   "id": "cfdbed6b",
   "metadata": {},
   "source": [
    "### Specifics of orders\n",
    "1. Create orders for tables Products and Orders\n",
    "2. Orders should have columns [delivery_date, delivery_type, product_id, order_id,quantity,selling_price, cost_of_sales,zone_id]\n",
    "Limitations for orders:\n",
    "- Every product has limits (min and max, max depends on delivery_type: 1 - Bike, 2 - Car)\n",
    "- Every day has 20-35 orders\n",
    "- Number of positions for cars 5 to 20 and for bike 2 to 12"
   ]
  },
  {
   "cell_type": "code",
   "execution_count": 3,
   "id": "021cb44b",
   "metadata": {},
   "outputs": [],
   "source": [
    "# Sets 1 or 2 for a delivery type\n",
    "def assign_values_within_day(df):\n",
    "    num_orders = len(df)\n",
    "    num_ones = int(num_orders * random.uniform(0.6, 0.85))  # Calculate number of 1s\n",
    "\n",
    "    # Assign 1s and 2s randomly within the day\n",
    "    values = random.choices([1, 2], k=num_orders)\n",
    "    values[:num_ones] = [1] * num_ones  # Set the first num_ones elements to 1\n",
    "    return values\n",
    "\n",
    "def get_random_positions(delivery_type, assortment = df_assortment):\n",
    "    if delivery_type == 1:\n",
    "        num_ids = random.randint(2, 12)  # Bikes will have positions between 2 and 12\n",
    "    else:\n",
    "        num_ids = random.randint(5, 20)  # Cars will have positions between 5 and 20\n",
    "    random_positions = df_assortment['product_id'].sample(n=num_ids).tolist()\n",
    "    return random_positions\n",
    "\n",
    "def add_values_to_column(df, values):\n",
    "    num_rows = len(values)\n",
    "    num_cols = len(df.columns)\n",
    "    repeated_df = pd.concat([df] * num_rows, ignore_index=True)\n",
    "    repeated_df['product_id'] = values[:num_rows]\n",
    "    return repeated_df\n",
    "\n",
    "def add_positions(df):\n",
    "    df_with_positions = pd.DataFrame(columns=df.columns)\n",
    "    for id in df['order_id']:\n",
    "        tmp_df = df.query('order_id == @id')\n",
    "        tmp_df = add_values_to_column(tmp_df,get_random_positions(tmp_df.iloc[0]['delivery_type']))\n",
    "        df_with_positions = pd.concat([df_with_positions,tmp_df], ignore_index=True)\n",
    "    return df_with_positions\n",
    "\n",
    "def add_quantity(row):\n",
    "    prod_id = row['product_id']\n",
    "    product_limits = df_assortment.query('product_id == @prod_id')\n",
    "    if row['delivery_type'] == 1:\n",
    "        num_q = random.randint(int(product_limits.iloc[0]['limit_min']), int(product_limits.iloc[0]['limit_bike_max']))\n",
    "    else:\n",
    "        num_q = random.randint(int(product_limits.iloc[0]['limit_min']), int(product_limits.iloc[0]['limit_car_max']))\n",
    "    return num_q\n",
    "\n",
    "def orders_dates(start_date, end_date,df_assortment):\n",
    "    # Convert start_date and end_date strings to datetime objects\n",
    "    start_date = datetime.strptime(start_date, \"%d.%m.%Y\")\n",
    "    end_date = datetime.strptime(end_date, \"%d.%m.%Y\")\n",
    "\n",
    "    # Calculate the number of days between start_date and end_date\n",
    "    num_days = (end_date - start_date).days + 1\n",
    "\n",
    "    gen_orders = []\n",
    "    first_order = 10000  # Initial order_id\n",
    "\n",
    "    # Generate rows for each date in the range\n",
    "    for i in range(num_days):\n",
    "        current_date = start_date + timedelta(days=i)\n",
    "        num_orders = random.randint(20, 35)  # Random number of orders between 20 and 35\n",
    "        orders = [(first_order + j, current_date) for j in range(num_orders)]\n",
    "        gen_orders.extend(orders)\n",
    "        first_order += num_orders\n",
    "    \n",
    "    df = pd.DataFrame(data=gen_orders, columns=['order_id','delivery_date'])\n",
    "    \n",
    "    num_orders = len(df)\n",
    "    zone_ids = [random.randint(1, 5) for _ in range(num_orders)]\n",
    "    df['zone_id'] = zone_ids\n",
    "    \n",
    "    values = []\n",
    "    for date in df['delivery_date'].unique():\n",
    "        tmp_df = df.query('delivery_date == @date')\n",
    "        x = assign_values_within_day(tmp_df)\n",
    "        values.extend(x)\n",
    "    df['delivery_type'] = values\n",
    "\n",
    "    df_with_positions = add_positions(df)\n",
    "    df_with_positions['quantity'] = df_with_positions.apply(add_quantity,axis=1)\n",
    "    \n",
    "    df_with_positions = df_with_positions.merge(df_assortment[['product_id','selling_price','cost_of_sales']], how='left',on='product_id')\n",
    "    \n",
    "    df_with_positions['total_price'] = df_with_positions['quantity'] * df_with_positions['selling_price'].astype('float16')\n",
    "    df_with_positions['total_cost'] = df_with_positions['quantity'] * df_with_positions['cost_of_sales'].astype('float16')\n",
    "    \n",
    "    df_with_positions['delivery_date'] = pd.to_datetime(df_with_positions['delivery_date'],format=\"%d.%m.%Y\").dt.date    \n",
    "    \n",
    "    return df_with_positions   "
   ]
  },
  {
   "cell_type": "code",
   "execution_count": null,
   "id": "f577ead7",
   "metadata": {},
   "outputs": [],
   "source": [
    "df_orders = orders_dates(\"01.04.2023\", \"15.06.2023\",df_assortment)"
   ]
  },
  {
   "cell_type": "code",
   "execution_count": null,
   "id": "2a5ae61b",
   "metadata": {},
   "outputs": [],
   "source": [
    "final_orders = df_orders.groupby(['order_id','delivery_date','delivery_type','zone_id']).agg({'total_price':'sum'}).reset_index().rename(columns={'total_price':'total_value'})"
   ]
  },
  {
   "cell_type": "code",
   "execution_count": null,
   "id": "c7a8af96",
   "metadata": {},
   "outputs": [],
   "source": [
    "final_products = df_orders[['product_id'\n",
    "                                     ,'order_id'\n",
    "                                     ,'quantity'\n",
    "                                     ,'selling_price'\n",
    "                                     ,'cost_of_sales'\n",
    "                                     ,'total_price'\n",
    "                                     ,'total_cost']]"
   ]
  },
  {
   "cell_type": "code",
   "execution_count": null,
   "id": "28332886",
   "metadata": {},
   "outputs": [],
   "source": [
    "final_orders.to_csv('orders.csv', index=False, sep=\";\")\n",
    "final_products.to_csv('products.csv', index=False,sep=\";\")"
   ]
  }
 ],
 "metadata": {
  "kernelspec": {
   "display_name": "Python 3",
   "language": "python",
   "name": "python3"
  },
  "language_info": {
   "codemirror_mode": {
    "name": "ipython",
    "version": 3
   },
   "file_extension": ".py",
   "mimetype": "text/x-python",
   "name": "python",
   "nbconvert_exporter": "python",
   "pygments_lexer": "ipython3",
   "version": "3.8.8"
  }
 },
 "nbformat": 4,
 "nbformat_minor": 5
}
